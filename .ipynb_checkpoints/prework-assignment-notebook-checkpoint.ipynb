{
 "cells": [
  {
   "cell_type": "markdown",
   "metadata": {},
   "source": [
    "# Prework Assignment"
   ]
  },
  {
   "cell_type": "markdown",
   "metadata": {},
   "source": [
    "### General Background Questions"
   ]
  },
  {
   "cell_type": "markdown",
   "metadata": {},
   "source": [
    "1. Why is version control important in science?"
   ]
  },
  {
   "cell_type": "code",
   "execution_count": 1,
   "metadata": {},
   "outputs": [],
   "source": [
    "\"\"\"\n",
    "Version control is important in science because it helps to make research reproducible. \n",
    "When version control is employed, it is much easier for scientists to verify one anothers findings. \n",
    "The ability to look at each step of the process makes for a much easier review/verifivation process. \n",
    "Version control also makes it much easier for scientists to share methods/code while giving propper credit to \n",
    "those who did it first. Scientists who want to do similar research or use similar methods can use the various\n",
    "versions of a reseach report in order to build off of any stage in the original project and jumpstary their own \n",
    "process without having to reinvent the wheel each time. Good version control is also imprtant because it can up\n",
    "the productivity of scientists by organizing the research process. \n",
    "\"\"\""
   ]
  },
  {
   "cell_type": "markdown",
   "metadata": {},
   "source": [
    "2. What kind of research artifacts can we track with Git?"
   ]
  },
  {
   "cell_type": "code",
   "execution_count": 1,
   "metadata": {},
   "outputs": [],
   "source": [
    "\"\"\"\n",
    "With Git, there are many types of research artifacts that can be tracked during a research project. Git tracks\n",
    "manuscripts and notes (i.e. files from microsoft word, plain text files),  datasets (i.e. data from spreadsheets,\n",
    "data taken in by sensors or other machines), statistical code (i.e. code that makes statistical scripts), figures, \n",
    "and also the complete manuscript that contains all of these elements.  \n",
    "\"\"\""
   ]
  },
  {
   "cell_type": "markdown",
   "metadata": {},
   "source": [
    "3. What are the three main things that can go wrong in a data science project?"
   ]
  },
  {
   "cell_type": "code",
   "execution_count": 1,
   "metadata": {},
   "outputs": [],
   "source": [
    "\"\"\"\n",
    "The first main thing that can go wrong in a data science project is that the real data isn't consistent with what\n",
    "you assumed it would be. This could be in the form of missing data, lack of access to data, or bad methods of \n",
    "collecting the data. \n",
    "\n",
    "The second main thing that can go wrong in a data science project is that the model doesn't work well. This is usually\n",
    "due to the fact that the data doesn't have a signal in it. Therefore whatever the model was, the data was never\n",
    "going to be helpful in informing your prediction.\n",
    "\n",
    "The third and final main thing that can go wrong in a data science project is that you weren't trying to solve the\n",
    "right problem. Sometimes when the data and the model work well, it turns out that there is a solution for a better\n",
    "problem that the data can solve. \n",
    "\"\"\""
   ]
  },
  {
   "cell_type": "markdown",
   "metadata": {},
   "source": [
    "### Python Background Questions"
   ]
  },
  {
   "cell_type": "markdown",
   "metadata": {},
   "source": [
    "These short exercises are a way to familiarize yourself with python. If you find these exercises too difficult, don’t worry! We will review the basics the first day to make sure we are all comfortable coding in Python.\n",
    "\n",
    "Please save your work in this document and `git push` them to the `prework-assignment` repo.\n",
    "\n",
    "----------------------------------------------------------------"
   ]
  },
  {
   "cell_type": "markdown",
   "metadata": {},
   "source": [
    "### Problem 1: Basic Operations"
   ]
  },
  {
   "cell_type": "markdown",
   "metadata": {},
   "source": [
    "You are at Vanessa's Vegan Cafe and you loved it so much you wanna leave a tip. Write a function that takes the amount owed and calculates how much money you pay with an 18% tip. If functions still scare you, just the solution code will do."
   ]
  },
  {
   "cell_type": "code",
   "execution_count": 1,
   "metadata": {},
   "outputs": [],
   "source": [
    "def tip_calculator(amount_owed):\n",
    "    \"\"\"\n",
    "    This function takes in the amount owed, ensures that the amount is an integer value\n",
    "    (as opposed to a string), and then adds an 18% tip by multiplying the amount by 1.18.\n",
    "    \"\"\"\n",
    "    total = int(amount_owed) * 1.18\n",
    "    return total\n",
    "    "
   ]
  },
  {
   "cell_type": "markdown",
   "metadata": {},
   "source": [
    "----------------------------------------------------------------"
   ]
  },
  {
   "cell_type": "markdown",
   "metadata": {},
   "source": [
    "### Problem 2: Lists"
   ]
  },
  {
   "cell_type": "markdown",
   "metadata": {},
   "source": [
    "I have a fortune cookie that says my lucky numbers are:\n",
    "\n",
    "       [23, 54, 6, 8, 10078, 3]\n",
    "\n",
    "Write a function that returns 3 lists (if functions still scare you, just the solution code will do)\n",
    "   - replace the number 6 with 1\n",
    "   - the above list in decreasing order\n",
    "   - all values greater than 15"
   ]
  },
  {
   "cell_type": "code",
   "execution_count": 19,
   "metadata": {},
   "outputs": [],
   "source": [
    "nums = [23, 54, 6, 8, 10078, 3]\n",
    "def lists(nums):\n",
    "    \"\"\"\n",
    "    This function takes in a list of lucky numbers. The first list that is created from \n",
    "    the lucky numbers is the same, but using a list comprehension the number 6 becomes a 1.\n",
    "    The second list that is created is sorted in decreasing order using the built-in\n",
    "    sorted function and the additional reverse=True parameter. The final list is created using\n",
    "    a list comprehension that only effects the list values that are greater than 15. \n",
    "    \"\"\"\n",
    "    list_1 = [1 if n == 6 else n for n in nums]\n",
    "    list_2 = sorted(nums, reverse = True)\n",
    "    list_3 = [n for n in nums if n > 15]\n",
    "    return list_1, list_2, list_3\n",
    "    "
   ]
  },
  {
   "cell_type": "markdown",
   "metadata": {},
   "source": [
    "----------------------------------------------------------------"
   ]
  },
  {
   "cell_type": "markdown",
   "metadata": {},
   "source": [
    "### Problem 3: Basic Operations"
   ]
  },
  {
   "cell_type": "markdown",
   "metadata": {},
   "source": [
    "Let's now take the first step in coding some real data science. Write a statement that loads the `numpy` library into the interpreter and gives it an alias of `np`."
   ]
  },
  {
   "cell_type": "code",
   "execution_count": 1,
   "metadata": {},
   "outputs": [
    {
     "data": {
      "text/plain": [
       "'1.11.3'"
      ]
     },
     "execution_count": 1,
     "metadata": {},
     "output_type": "execute_result"
    }
   ],
   "source": [
    "import numpy as np"
   ]
  },
  {
   "cell_type": "markdown",
   "metadata": {},
   "source": [
    "----------------------------------------------------------------"
   ]
  },
  {
   "cell_type": "markdown",
   "metadata": {},
   "source": [
    "### Problem 4: Numpy"
   ]
  },
  {
   "cell_type": "markdown",
   "metadata": {},
   "source": [
    "Generated a 10x10 `numpy` array with random numbers and slice the array to get the 2nd and 3rd column. Also calculate the average of 6th column using `numpy`."
   ]
  },
  {
   "cell_type": "code",
   "execution_count": 33,
   "metadata": {},
   "outputs": [
    {
     "name": "stdout",
     "output_type": "stream",
     "text": [
      "[[24 40 47 99 38 47 77 47 58 65]\n",
      " [74 12 38  5 13 73 28 14 39 92]\n",
      " [22 33 90 45 18 89 98 61 51 51]\n",
      " [13 25 33  0 64  9 93 87 52 80]\n",
      " [77 60 53 14 42 86 14 56 52  9]\n",
      " [64 47 27 94 98 66 24 37 13 98]\n",
      " [ 1 23 98 75 54 84  9 78 17 11]\n",
      " [97 86 72 49 51 51 78  5 71 81]\n",
      " [66 27 86 28  3 80 39 51 82  3]\n",
      " [87 28 83 28 96 70 28 47 67 27]] [[40]\n",
      " [12]\n",
      " [33]\n",
      " [25]\n",
      " [60]\n",
      " [47]\n",
      " [23]\n",
      " [86]\n",
      " [27]\n",
      " [28]] [[47]\n",
      " [38]\n",
      " [90]\n",
      " [33]\n",
      " [53]\n",
      " [27]\n",
      " [98]\n",
      " [72]\n",
      " [86]\n",
      " [83]] 65.5\n"
     ]
    }
   ],
   "source": [
    "import numpy as np\n",
    "x = np.random.randint(100, size = (10, 10))\n",
    "column2 = x[:, 1:2]\n",
    "column3 = x[:, 2:3]\n",
    "avg = np.mean(x[:, 5:6])\n",
    "\n",
    "print (x, column2, column3, avg)\n",
    "\n"
   ]
  },
  {
   "cell_type": "markdown",
   "metadata": {},
   "source": [
    "----------------------------------------------------------------"
   ]
  },
  {
   "cell_type": "markdown",
   "metadata": {},
   "source": [
    "##### That's it! We look forward to seeing you in class!"
   ]
  }
 ],
 "metadata": {
  "kernelspec": {
   "display_name": "Python 3",
   "language": "python",
   "name": "python3"
  },
  "language_info": {
   "codemirror_mode": {
    "name": "ipython",
    "version": 3
   },
   "file_extension": ".py",
   "mimetype": "text/x-python",
   "name": "python",
   "nbconvert_exporter": "python",
   "pygments_lexer": "ipython3",
   "version": "3.6.7"
  }
 },
 "nbformat": 4,
 "nbformat_minor": 2
}
